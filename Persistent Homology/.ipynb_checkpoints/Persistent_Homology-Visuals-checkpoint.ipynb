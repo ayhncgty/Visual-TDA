{
 "cells": [
  {
   "cell_type": "markdown",
   "id": "ce5635dd-20c9-479f-8092-e7d2058fee91",
   "metadata": {},
   "source": [
    "# Introduction\n",
    "In this notebook, we use various datasets to visualize persistent barcodes."
   ]
  },
  {
   "cell_type": "code",
   "execution_count": null,
   "id": "6c7316ff-9a93-4e83-bf59-03b8da7d5a29",
   "metadata": {},
   "outputs": [],
   "source": [
    "# Import required functions\n",
    "from tda_utils import *"
   ]
  },
  {
   "cell_type": "markdown",
   "id": "5c955750-7b5e-4a1f-afb4-226ecb70005a",
   "metadata": {},
   "source": [
    "# Datasets\n",
    "We begin by uploading/generatings synthetic datasets. We have in total four different datasets.\n",
    "* Point Cloud with Two Prominent Loops\n",
    "* Point Cloud with Three Blobs\n",
    "* Sphere\n",
    "* Weighted Graph"
   ]
  },
  {
   "cell_type": "code",
   "execution_count": null,
   "id": "626f73c0-f69e-4a5d-9b1c-5845ca1b7d78",
   "metadata": {},
   "outputs": [],
   "source": [
    "# Load datasets\n",
    "pt_cloud1 = np.load('Datasets/point_cloud_in_plane.npy')\n",
    "X_blobs = np.load('Datasets/blobs.npy')\n",
    "X_sphere = np.load('Datasets/X_sphere.npy')\n",
    "\n",
    "# Create a weighted graph data\n",
    "weights = np.array([\n",
    "    [0, 1, 0.1],\n",
    "    [0, 2, 0.8],\n",
    "    [0, 3, 0.65],\n",
    "    [0, 4, 0.65],\n",
    "    [1, 2, 0.8],\n",
    "    [1, 3, 0.65],\n",
    "    [1, 4, 0.65],\n",
    "    [2, 3, 0.8],\n",
    "    [2, 4, 0.83],\n",
    "    [3, 4, 0.15]\n",
    "])\n",
    "\n",
    "# Create graph and add weighted edges\n",
    "G = nx.Graph()\n",
    "G.add_weighted_edges_from(weights)\n"
   ]
  },
  {
   "cell_type": "markdown",
   "id": "2be5f633-655c-4712-8a94-8cc9a319d5e4",
   "metadata": {},
   "source": [
    "## Visualize the Datasets\n",
    "We visualize the four datasets below. The first three are point clouds and the last one is a weighted graph."
   ]
  },
  {
   "cell_type": "code",
   "execution_count": null,
   "id": "2b3d3741-2934-4e25-b828-bab755c400ec",
   "metadata": {},
   "outputs": [],
   "source": [
    "fig = plt.figure(figsize=(24, 6))\n",
    "\n",
    "# Point Cloud\n",
    "ax1 = fig.add_subplot(1,5,1)\n",
    "ax1.scatter(pt_cloud1[:,0],pt_cloud1[:,1],s = 10)\n",
    "ax1.set_title(\"Point Cloud\")\n",
    "ax1.axis('equal')\n",
    "\n",
    "# Blobs\n",
    "ax2 = fig.add_subplot(1, 5, 2)\n",
    "ax2.scatter(X_blobs[:, 0], X_blobs[:, 1], s=10)\n",
    "ax2.set_title(\"Blobs\")\n",
    "ax2.axis('equal')\n",
    "\n",
    "# Sphere\n",
    "ax3 = fig.add_subplot(1, 5, 3, projection='3d')\n",
    "ax3.scatter(X_sphere[:, 0], X_sphere[:, 1], X_sphere[:, 2], s=10)\n",
    "ax3.set_title(\"Sphere\")\n",
    "\n",
    "\n",
    "# Weighted Graph\n",
    "ax4 = fig.add_subplot(1, 5, 4)\n",
    "G = nx.Graph()\n",
    "G.add_weighted_edges_from(weights)\n",
    "plot_weighted_graph(weighted_graph_edges,ax = ax4)\n",
    "# pos = nx.circular_layout(G)\n",
    "# nx.draw(G, pos, with_labels=True, node_color='lightblue', node_size=700, font_weight='bold', ax=ax4)\n",
    "# edge_labels = nx.get_edge_attributes(G, 'weight')\n",
    "# nx.draw_networkx_edge_labels(G, pos, edge_labels=edge_labels, ax=ax4)\n",
    "ax4.set_title(\"Weighted Graph\")\n",
    "ax4.axis('off')\n",
    "\n",
    "plt.tight_layout()\n",
    "\n",
    "plt.savefig('Figures/Datasets.png')\n",
    "plt.show()\n"
   ]
  },
  {
   "cell_type": "markdown",
   "id": "9b4b92e3-ec22-4489-927b-47208f9045d9",
   "metadata": {},
   "source": [
    "# Persistence Barcodes and Diagrams\n",
    "For each dataset, we compute and visualize the persistence barcode."
   ]
  },
  {
   "cell_type": "code",
   "execution_count": null,
   "id": "b7d0c18f-d849-44ac-8f7a-bab7f5135afe",
   "metadata": {},
   "outputs": [],
   "source": [
    "#--Persistence Barcode Computations ---\n",
    "\n",
    "## Point Cloud 1\n",
    "### Use r = 3 to plot this\n",
    "rips_complex_pt_cloud1 = gd.RipsComplex(points = pt_cloud1,max_edge_length = 20)\n",
    "simplex_tree_pt_cloud1 = rips_complex_pt_cloud1.create_simplex_tree(max_dimension = 2)\n",
    "dgm_pt_cloud1 = simplex_tree_pt_cloud1.persistence()\n",
    "\n",
    "## Blobs\n",
    "### Use  r = 10 to plot this\n",
    "rips_complex_blobs = gd.RipsComplex(points = X_blobs,max_edge_length = 10)\n",
    "simplex_tree_blobs = rips_complex_blobs.create_simplex_tree(max_dimension = 2)\n",
    "dgm_blobs = simplex_tree_blobs.persistence()\n",
    "\n",
    "## Sphere \n",
    "### Use r = 2 to plot this\n",
    "rips_complex_sphere = gd.RipsComplex(points = X_sphere,max_edge_length = 3)\n",
    "simplex_tree_sphere = rips_complex_sphere.create_simplex_tree(max_dimension = 3)\n",
    "dgm_sphere = simplex_tree_sphere.persistence()\n",
    "\n",
    "## Weighted Graph\n",
    "### Use weights of the graph as distance between the nodes\n",
    "nodes = list(G.nodes())\n",
    "n = len(nodes)\n",
    "index = {node: i for i, node in enumerate(nodes)}\n",
    "DM_X = np.full((n, n), fill_value=np.inf)\n",
    "np.fill_diagonal(DM_X, 0.0)\n",
    "for u, v, data in G.edges(data=True):\n",
    "        i, j = index[u], index[v]\n",
    "        w = data.get('weight', 1.0)\n",
    "        DM_X[i, j] = DM_X[j, i] = w\n",
    "\n",
    "### now ready to compute persistence\n",
    "rips_complex_graph = gd.RipsComplex(distance_matrix = DM_X,max_edge_length = 1)\n",
    "simplex_tree_graph = rips_complex_graph.create_simplex_tree(max_dimension = 2)\n",
    "dgm_graph = simplex_tree_graph.persistence()\n",
    "## use r = 1 to plot"
   ]
  },
  {
   "cell_type": "code",
   "execution_count": null,
   "id": "a08e909d-230b-48b7-a2a8-3a5df84e32e9",
   "metadata": {},
   "outputs": [],
   "source": [
    "# Now plot all four barcode panels\n",
    "fig, axs = plt.subplots(1, 4, figsize=(25, 5))\n",
    "\n",
    "plot_barcode(dgm_pt_cloud1, r=3, dims=[0, 1], ax=axs[0])\n",
    "axs[0].set_title(\"Point Cloud 1\")\n",
    "\n",
    "plot_barcode(dgm_blobs, r=10, dims=[0], ax=axs[1])\n",
    "axs[1].set_title(\"Blobs\")\n",
    "\n",
    "plot_barcode(dgm_sphere, r=2, dims=[0, 1,2], ax=axs[2])\n",
    "axs[2].set_title(\"Sphere\")\n",
    "\n",
    "plot_barcode(dgm_graph, r=1, dims=[0, 1], ax=axs[3])\n",
    "axs[3].set_title(\"Weighted Graph\")\n",
    "\n",
    "plt.tight_layout()\n",
    "\n",
    "plt.savefig('Figures/Barcodes.png')\n",
    "plt.show()"
   ]
  },
  {
   "cell_type": "markdown",
   "id": "818a6c05-e15a-4543-a7f4-d33317cdfd3b",
   "metadata": {},
   "source": [
    "# Animation of VR Complex and Barcode\n",
    "The following animations illustrate how the Vietoris-Rips complex and its persistence barcode evolve together as the scale parameter increases.\n"
   ]
  },
  {
   "cell_type": "markdown",
   "id": "e65ded93-7a9d-45db-9801-305319db9386",
   "metadata": {},
   "source": [
    "## Animation For Point Cloud"
   ]
  },
  {
   "cell_type": "code",
   "execution_count": null,
   "id": "23b6563a-d188-4fc6-9b9f-11600becbdca",
   "metadata": {},
   "outputs": [],
   "source": [
    "# --- Animation setup ---\n",
    "r_values = np.linspace(0.01, 3.0, 60)\n",
    "fig, (ax_vr, ax_bar) = plt.subplots(1, 2, figsize=(15, 7))\n",
    "\n",
    "def update(i):\n",
    "    r = r_values[i]\n",
    "    ax_vr.clear()\n",
    "    ax_bar.clear()\n",
    "\n",
    "    plot_VR(pt_cloud1, r, ax=ax_vr)\n",
    "    ax_vr.set_title(f\"VR Complex at $r = {r:.2f}$\", fontsize=16)\n",
    "    ax_vr.set_xticks(np.arange(-3.5,4,0.5))\n",
    "    ax_vr.set_yticks(np.arange(-3.5,4,0.5))\n",
    "\n",
    "    plot_barcode(dgm_pt_cloud1, r=r, dims=[0,1], ax=ax_bar)\n",
    "    ax_bar.set_xlim([0,3])\n",
    "    ax_bar.set_ylim([-0.2,10])\n",
    "\n",
    "ani = FuncAnimation(fig, update, frames=len(r_values), interval=100, repeat=True)\n",
    "\n",
    "writer = HTMLWriter(fps=10, embed_frames=True)\n",
    "ani.save(\"All Animations/vr_barcode_animation.html\", writer=writer)\n",
    "\n",
    "plt.close()\n",
    "HTML(ani.to_jshtml())"
   ]
  },
  {
   "cell_type": "markdown",
   "id": "d0fa19bc-8602-4830-be2d-949b31fa4ba0",
   "metadata": {},
   "source": [
    "## Animation For Blobs"
   ]
  },
  {
   "cell_type": "code",
   "execution_count": null,
   "id": "d4af1d4c-1429-4df0-9e9e-7f570c620c84",
   "metadata": {},
   "outputs": [],
   "source": [
    "# --- Animation setup ---\n",
    "r_values = np.linspace(0.01, 10.0, 60)\n",
    "fig, (ax_vr, ax_bar) = plt.subplots(1, 2, figsize=(15, 7))\n",
    "\n",
    "def update(i):\n",
    "    r = r_values[i]\n",
    "    ax_vr.clear()\n",
    "    ax_bar.clear()\n",
    "\n",
    "    plot_VR(X_blobs, r, ax=ax_vr)\n",
    "    ax_vr.set_title(f\"VR Complex at $r = {r:.2f}$\", fontsize=16)\n",
    "    ax_vr.set_xticks(range(-10,10))\n",
    "    ax_vr.set_yticks(range(-10,10))\n",
    "\n",
    "    plot_barcode(dgm_blobs, r=r, dims=[0], ax=ax_bar)\n",
    "    ax_bar.set_xlim([0,11])\n",
    "    ax_bar.set_ylim([-0.2,10])\n",
    "\n",
    "ani = FuncAnimation(fig, update, frames=len(r_values), interval=100, repeat=True)\n",
    "\n",
    "writer = HTMLWriter(fps=10, embed_frames=True)\n",
    "ani.save(\"All Animations/vr_barcode_animation_Blobs.html\", writer=writer)\n",
    "\n",
    "plt.close()\n",
    "HTML(ani.to_jshtml())"
   ]
  },
  {
   "cell_type": "markdown",
   "id": "c9cd488e-88d6-4c6c-8d46-0584d19ef039",
   "metadata": {},
   "source": [
    "## Animation For Sphere"
   ]
  },
  {
   "cell_type": "code",
   "execution_count": null,
   "id": "6b60cb7d-16f0-4c72-98bd-c5c413724df0",
   "metadata": {},
   "outputs": [],
   "source": [
    "r_values = np.linspace(0.01, 2.0, 30)\n",
    "\n",
    "# Create custom figure and axes\n",
    "fig = plt.figure(figsize=(15, 7))\n",
    "\n",
    "# ax_vr is 3D\n",
    "ax_vr = fig.add_subplot(1, 2, 1, projection='3d')\n",
    "\n",
    "# ax_bar is 2D\n",
    "ax_bar = fig.add_subplot(1, 2, 2)\n",
    "\n",
    "def update(i):\n",
    "    r = r_values[i]\n",
    "    ax_vr.clear()\n",
    "    ax_bar.clear()\n",
    "\n",
    "    plot_VR(X_sphere, r, ax=ax_vr)\n",
    "    ax_vr.set_title(f\"VR Complex at $r = {r:.2f}$\", fontsize=16)\n",
    "\n",
    "    plot_barcode(dgm_sphere, r=r, dims=[0,1,2], ax=ax_bar)\n",
    "    ax_bar.set_xlim([0, 2.2])\n",
    "    ax_bar.set_ylim([-0.2, 10])\n",
    "\n",
    "ani = FuncAnimation(fig, update, frames=len(r_values), interval=100, repeat=True)\n",
    "\n",
    "writer = HTMLWriter(fps=10, embed_frames=True)\n",
    "ani.save(\"All Animations/vr_barcode_animation_sphere.html\", writer=writer)\n",
    "\n",
    "plt.close()\n",
    "HTML(ani.to_jshtml())\n"
   ]
  },
  {
   "cell_type": "markdown",
   "id": "1523f23c-5e8d-4ad0-8d23-744eee240f4f",
   "metadata": {},
   "source": [
    "## Animation For Weighted Graph"
   ]
  },
  {
   "cell_type": "code",
   "execution_count": null,
   "id": "e8357a62-9a33-4594-8141-4136899c63ae",
   "metadata": {},
   "outputs": [],
   "source": [
    "# --- Animation setup ---\n",
    "r_values = np.linspace(0.01, 1.0, 60)\n",
    "fig, (ax_vr, ax_bar) = plt.subplots(1, 2, figsize=(15, 7))\n",
    "\n",
    "def update(i):\n",
    "    r = r_values[i]\n",
    "    ax_vr.clear()\n",
    "    ax_bar.clear()\n",
    "\n",
    "    plot_VR_from_graph(G, r, ax=ax_vr)\n",
    "    ax_vr.set_title(f\"VR Complex at $r = {r:.2f}$\", fontsize=16)\n",
    "\n",
    "    plot_barcode(dgm_graph, r=r, dims=[0], ax=ax_bar)\n",
    "    ax_bar.set_xlim([0,1.1])\n",
    "    ax_bar.set_ylim([-0.2,10])\n",
    "\n",
    "ani = FuncAnimation(fig, update, frames=len(r_values), interval=100, repeat=True)\n",
    "\n",
    "writer = HTMLWriter(fps=10, embed_frames=True)\n",
    "ani.save(\"All Animations/vr_barcode_animation_graph.html\", writer=writer)\n",
    "\n",
    "plt.close()\n",
    "HTML(ani.to_jshtml())"
   ]
  },
  {
   "cell_type": "markdown",
   "id": "46bf3620-849f-489c-bd84-cb4c53eda4f1",
   "metadata": {},
   "source": [
    "## Animations All Together"
   ]
  },
  {
   "cell_type": "code",
   "execution_count": null,
   "id": "efc914f1-81a5-4ed5-9c75-b78e0dd4e737",
   "metadata": {},
   "outputs": [],
   "source": [
    "# Expand output width in JupyterLab\n",
    "display(HTML(\"<style>.output_wrapper, .output {width: 100% !important;}</style>\"))\n",
    "\n",
    "# HTML file map\n",
    "html_files = {\n",
    "    \"Point Cloud\": \"vr_barcode_animation_pt_cloud.html\",\n",
    "    \"Blobs\": \"vr_barcode_animation_Blobs.html\",\n",
    "    \"Sphere\": \"vr_barcode_animation_sphere.html\",\n",
    "    \"Weighted Graph\": \"vr_barcode_animation_graph.html\"\n",
    "}\n",
    "\n",
    "# Dropdown selector\n",
    "dropdown = widgets.Dropdown(\n",
    "    options=html_files.keys(),\n",
    "    description='Dataset:',\n",
    "    layout=widgets.Layout(width='300px')\n",
    ")\n",
    "\n",
    "# Output area\n",
    "output = widgets.Output()\n",
    "\n",
    "def on_change(change):\n",
    "    if change['type'] == 'change' and change['name'] == 'value':\n",
    "        with output:\n",
    "            output.clear_output()\n",
    "            path = html_files[change['new']]\n",
    "            display(IFrame(src=path, width='100%', height='850'))\n",
    "\n",
    "# Hook event\n",
    "dropdown.observe(on_change)\n",
    "\n",
    "# Display UI\n",
    "display(HTML(\"<h2>Persistent Homology Animation Viewer</h2>\"))\n",
    "display(dropdown)\n",
    "display(output)\n",
    "\n",
    "# Trigger first display\n",
    "dropdown.value = \"Point Cloud\"\n"
   ]
  },
  {
   "cell_type": "code",
   "execution_count": null,
   "id": "bfca101a-7db6-496d-890a-f373876307de",
   "metadata": {},
   "outputs": [],
   "source": []
  },
  {
   "cell_type": "code",
   "execution_count": null,
   "id": "f4e4719a-3fbc-4f1a-b04f-8e1fccb8a2c0",
   "metadata": {},
   "outputs": [],
   "source": []
  },
  {
   "cell_type": "code",
   "execution_count": null,
   "id": "bc499b2f-397e-41b2-b1f3-d8129f65d847",
   "metadata": {},
   "outputs": [],
   "source": []
  },
  {
   "cell_type": "code",
   "execution_count": null,
   "id": "69fe070c-6bf1-4bb0-86fa-803a062ebd31",
   "metadata": {},
   "outputs": [],
   "source": []
  }
 ],
 "metadata": {
  "kernelspec": {
   "display_name": "Python [conda env:base] *",
   "language": "python",
   "name": "conda-base-py"
  },
  "language_info": {
   "codemirror_mode": {
    "name": "ipython",
    "version": 3
   },
   "file_extension": ".py",
   "mimetype": "text/x-python",
   "name": "python",
   "nbconvert_exporter": "python",
   "pygments_lexer": "ipython3",
   "version": "3.11.5"
  }
 },
 "nbformat": 4,
 "nbformat_minor": 5
}
